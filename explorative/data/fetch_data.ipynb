{
 "cells": [
  {
   "cell_type": "code",
   "execution_count": 43,
   "id": "8caef72b",
   "metadata": {},
   "outputs": [],
   "source": [
    "# impots\n",
    "import requests\n",
    "import json\n",
    "from datetime import datetime\n",
    "import time"
   ]
  },
  {
   "cell_type": "code",
   "execution_count": 44,
   "id": "fab6f9d6",
   "metadata": {},
   "outputs": [],
   "source": [
    "# Target\n",
    "SUBREDDIT = 'wallstreetbets'\n",
    "FROM = 1606436515\n",
    "TO = 1608434872\n",
    "NUM_POSTS = '1000'\n",
    "SEC_PER_DAY = 86400\n",
    "\n",
    "URL = f\"https://api.pushshift.io/reddit/search/submission/?subreddit={SUBREDDIT}&sort=desc&sort_type=created_utc&after={FROM}&before={TO}&size={NUM_POSTS}\""
   ]
  },
  {
   "cell_type": "code",
   "execution_count": 45,
   "id": "6f532f32",
   "metadata": {},
   "outputs": [
    {
     "name": "stdout",
     "output_type": "stream",
     "text": [
      "Counter: 0\n",
      "Min Date: 2020-12-19 18:39:47\n",
      "1.6% Progress\n",
      "Counter: 20\n",
      "Min Date: 2020-12-15 15:46:30\n",
      "19.4% Progress\n",
      "Counter: 40\n",
      "Min Date: 2020-12-09 19:32:15\n",
      "44.7% Progress\n",
      "Counter: 60\n",
      "Min Date: 2020-12-04 22:09:06\n",
      "65.8% Progress\n",
      "Counter: 80\n",
      "Min Date: 2020-12-01 05:41:14\n",
      "81.7% Progress\n",
      "DONE!\n"
     ]
    }
   ],
   "source": [
    "posts = list()\n",
    "counter = 0\n",
    "while True:\n",
    "    # Fetches data from pushshift.io and converts it to json\n",
    "    temp_res = requests.get(URL)\n",
    "    if int(temp_res.status_code) == 504:\n",
    "        time.sleep(1.5)\n",
    "        temp_res = requests.get(URL)\n",
    "    temp_json = temp_res.json()['data'] \n",
    "    #create new dictionary:\n",
    "    temp_data = list()\n",
    "    for i in range(len(temp_json)):\n",
    "        temp_data.append({\n",
    "            \"title\":temp_json[i]['title'],\n",
    "            \"created_utc\":temp_json[i]['created_utc']\n",
    "        })\n",
    "        \n",
    "    # Add datapoints to list of posts\n",
    "    posts += temp_data\n",
    "    if counter % 20 == 0:\n",
    "        # Save Progress\n",
    "        with open('wsb_data_4.json', 'w') as f:\n",
    "            json.dump({\"data\":posts}, f)\n",
    "    \n",
    "    # Find oldest data from this fetch\n",
    "    temp_dates = set()\n",
    "    for i in range(len(temp_json)):\n",
    "        temp_dates.add(temp_json[i]['created_utc'])\n",
    "        \n",
    "    # Check if we have all the datapoint we need\n",
    "    if min(temp_dates) <= FROM+SEC_PER_DAY:\n",
    "        break\n",
    "    URL = f\"https://api.pushshift.io/reddit/search/submission/?subreddit={SUBREDDIT}&sort=desc&sort_type=created_utc&after={FROM}&before={min(temp_dates)}&size={NUM_POSTS}\"\n",
    "    if counter % 20 == 0:\n",
    "        print(f\"Counter: {counter}\")\n",
    "        print(f\"Min Date: {datetime.fromtimestamp(int(min(temp_dates)))}\")\n",
    "        print(f\"{round((TO-int(min(temp_dates)))/(TO-FROM)*100,1)}% Progress\")\n",
    "        \n",
    "    counter +=1\n",
    "    time.sleep(1.2)\n",
    "print(\"DONE!\")"
   ]
  },
  {
   "cell_type": "code",
   "execution_count": 41,
   "id": "1887827e",
   "metadata": {},
   "outputs": [
    {
     "data": {
      "text/plain": [
       "<Response [200]>"
      ]
     },
     "execution_count": 41,
     "metadata": {},
     "output_type": "execute_result"
    }
   ],
   "source": [
    "temp_res"
   ]
  },
  {
   "cell_type": "code",
   "execution_count": 42,
   "id": "e41f2241",
   "metadata": {},
   "outputs": [
    {
     "data": {
      "text/plain": [
       "{'all_awardings': [],\n",
       " 'allow_live_comments': False,\n",
       " 'author': 'I_had_corn',\n",
       " 'author_flair_css_class': None,\n",
       " 'author_flair_richtext': [],\n",
       " 'author_flair_text': None,\n",
       " 'author_flair_type': 'text',\n",
       " 'author_fullname': 't2_62t0j7s6',\n",
       " 'author_patreon_flair': False,\n",
       " 'author_premium': False,\n",
       " 'awarders': [],\n",
       " 'can_mod_post': False,\n",
       " 'contest_mode': False,\n",
       " 'created_utc': 1608434872,\n",
       " 'domain': 'i.redd.it',\n",
       " 'full_link': 'https://www.reddit.com/r/wallstreetbets/comments/kgmo49/took_a_trip_to_a_mining_town_in_co_greeted_by_the/',\n",
       " 'gildings': {},\n",
       " 'id': 'kgmo49',\n",
       " 'is_crosspostable': False,\n",
       " 'is_meta': False,\n",
       " 'is_original_content': False,\n",
       " 'is_reddit_media_domain': True,\n",
       " 'is_robot_indexable': False,\n",
       " 'is_self': False,\n",
       " 'is_video': False,\n",
       " 'link_flair_background_color': '#7a5901',\n",
       " 'link_flair_css_class': 'shitpost',\n",
       " 'link_flair_richtext': [{'e': 'text', 't': 'Shitpost'}],\n",
       " 'link_flair_template_id': 'd609e434-b97f-11ea-a39e-0ea715edff61',\n",
       " 'link_flair_text': 'Shitpost',\n",
       " 'link_flair_text_color': 'light',\n",
       " 'link_flair_type': 'richtext',\n",
       " 'locked': False,\n",
       " 'media_only': False,\n",
       " 'no_follow': True,\n",
       " 'num_comments': 0,\n",
       " 'num_crossposts': 0,\n",
       " 'over_18': False,\n",
       " 'parent_whitelist_status': 'some_ads',\n",
       " 'permalink': '/r/wallstreetbets/comments/kgmo49/took_a_trip_to_a_mining_town_in_co_greeted_by_the/',\n",
       " 'pinned': False,\n",
       " 'post_hint': 'image',\n",
       " 'preview': {'enabled': True,\n",
       "  'images': [{'id': 'r3cOBP3xBnz-9_IE3dmclSNu5qu_c9EVbOKhm8dWiNc',\n",
       "    'resolutions': [{'height': 81,\n",
       "      'url': 'https://preview.redd.it/gb4h5sb4h9661.jpg?width=108&amp;crop=smart&amp;auto=webp&amp;s=bc6d31e6d9f44b48839c179524f9471c9a5528ff',\n",
       "      'width': 108},\n",
       "     {'height': 162,\n",
       "      'url': 'https://preview.redd.it/gb4h5sb4h9661.jpg?width=216&amp;crop=smart&amp;auto=webp&amp;s=5ce7ef14e775f0a0e4bd6306401c1d0f9598d4d6',\n",
       "      'width': 216},\n",
       "     {'height': 240,\n",
       "      'url': 'https://preview.redd.it/gb4h5sb4h9661.jpg?width=320&amp;crop=smart&amp;auto=webp&amp;s=44198da1c8756317bd25342e675aa75989ef7709',\n",
       "      'width': 320},\n",
       "     {'height': 480,\n",
       "      'url': 'https://preview.redd.it/gb4h5sb4h9661.jpg?width=640&amp;crop=smart&amp;auto=webp&amp;s=1ca923ccdcf82fd33a52d7579c848975027f9847',\n",
       "      'width': 640},\n",
       "     {'height': 720,\n",
       "      'url': 'https://preview.redd.it/gb4h5sb4h9661.jpg?width=960&amp;crop=smart&amp;auto=webp&amp;s=1f6639716ed1bb88e3e3e0b8cacb48b68fc51fd2',\n",
       "      'width': 960},\n",
       "     {'height': 810,\n",
       "      'url': 'https://preview.redd.it/gb4h5sb4h9661.jpg?width=1080&amp;crop=smart&amp;auto=webp&amp;s=11fb577e37dfb1bc43554e7b7ad14a271dca0259',\n",
       "      'width': 1080}],\n",
       "    'source': {'height': 3024,\n",
       "     'url': 'https://preview.redd.it/gb4h5sb4h9661.jpg?auto=webp&amp;s=de0601372ad255320e6b37fb6454a29d80762cb4',\n",
       "     'width': 4032},\n",
       "    'variants': {}}]},\n",
       " 'pwls': 7,\n",
       " 'removed_by_category': 'moderator',\n",
       " 'retrieved_on': 1608434883,\n",
       " 'score': 1,\n",
       " 'selftext': '',\n",
       " 'send_replies': True,\n",
       " 'spoiler': False,\n",
       " 'stickied': False,\n",
       " 'subreddit': 'wallstreetbets',\n",
       " 'subreddit_id': 't5_2th52',\n",
       " 'subreddit_subscribers': 1720548,\n",
       " 'subreddit_type': 'public',\n",
       " 'suggested_sort': 'confidence',\n",
       " 'thumbnail': 'https://b.thumbs.redditmedia.com/UENDvQOS-CNv0jnHuOlRcwN9DZ9K-2i9_FB24I3aH1o.jpg',\n",
       " 'thumbnail_height': 105,\n",
       " 'thumbnail_width': 140,\n",
       " 'title': 'Took a trip to a mining town in CO. Greeted by the man himself. TSLA Calls this Monday, boyz.',\n",
       " 'total_awards_received': 0,\n",
       " 'treatment_tags': [],\n",
       " 'upvote_ratio': 1.0,\n",
       " 'url': 'https://i.redd.it/gb4h5sb4h9661.jpg',\n",
       " 'url_overridden_by_dest': 'https://i.redd.it/gb4h5sb4h9661.jpg',\n",
       " 'whitelist_status': 'some_ads',\n",
       " 'wls': 7}"
      ]
     },
     "execution_count": 42,
     "metadata": {},
     "output_type": "execute_result"
    }
   ],
   "source": [
    "temp_json[-1]"
   ]
  },
  {
   "cell_type": "code",
   "execution_count": null,
   "id": "62863a6a",
   "metadata": {},
   "outputs": [],
   "source": []
  }
 ],
 "metadata": {
  "kernelspec": {
   "display_name": "conda_python3",
   "language": "python",
   "name": "conda_python3"
  },
  "language_info": {
   "codemirror_mode": {
    "name": "ipython",
    "version": 3
   },
   "file_extension": ".py",
   "mimetype": "text/x-python",
   "name": "python",
   "nbconvert_exporter": "python",
   "pygments_lexer": "ipython3",
   "version": "3.8.12"
  }
 },
 "nbformat": 4,
 "nbformat_minor": 5
}
