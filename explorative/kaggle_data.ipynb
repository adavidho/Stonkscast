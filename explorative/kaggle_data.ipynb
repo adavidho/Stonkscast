{
 "cells": [
  {
   "cell_type": "markdown",
   "id": "9e12c216-bb71-4540-84ea-78b85b0fba9b",
   "metadata": {},
   "source": [
    "# Exploration of Kaggle Data"
   ]
  },
  {
   "cell_type": "code",
   "execution_count": 100,
   "id": "bd2f67fd-2998-4d47-97ed-228b80f83f03",
   "metadata": {},
   "outputs": [],
   "source": [
    "# Select Dataset for Exploration (options: wsb_df, all_df)\n",
    "dataset = \"all_df\""
   ]
  },
  {
   "cell_type": "code",
   "execution_count": 119,
   "id": "e39e2d15-cae1-4f48-b7e3-2a27555b4cbe",
   "metadata": {},
   "outputs": [],
   "source": [
    "# Select the bin size in seconds (e.g. 604800 for a week)\n",
    "bin_size = 604800"
   ]
  },
  {
   "cell_type": "markdown",
   "id": "edfb9bf4-5831-4b0f-b9b5-0c808a692f93",
   "metadata": {},
   "source": [
    "#### Load Data"
   ]
  },
  {
   "cell_type": "code",
   "execution_count": 120,
   "id": "9632ffd5-8c2f-42d2-bf7f-6655ce40bfce",
   "metadata": {},
   "outputs": [],
   "source": [
    "#imports\n",
    "from datetime import datetime\n",
    "import numpy as np\n",
    "import pandas as pd\n",
    "from sklearn.feature_extraction.text import TfidfVectorizer"
   ]
  },
  {
   "cell_type": "code",
   "execution_count": 121,
   "id": "8bfa57a8-1b0a-4f57-80c8-c8b26a84f256",
   "metadata": {},
   "outputs": [],
   "source": [
    "wsb_df = pd.read_csv(\"../../Data/reddit_wsb.csv\")\n",
    "all_df = pd.read_csv(\"../../Data/r_dataisbeautiful_posts.csv\", low_memory=False)"
   ]
  },
  {
   "cell_type": "code",
   "execution_count": 124,
   "id": "f5cfb022-d403-41df-b467-44e5b240cce3",
   "metadata": {},
   "outputs": [],
   "source": [
    "if dataset==\"wsb_df\":\n",
    "    df=wsb_df\n",
    "elif dataset==\"all_df\":\n",
    "    df=all_df\n",
    "    df=df.rename({'created_utc': 'created'}, axis=1)"
   ]
  },
  {
   "cell_type": "markdown",
   "id": "a7b004aa-22c6-4fb9-9bfd-8d501eee5cde",
   "metadata": {},
   "source": [
    "#### Small Data Analysis"
   ]
  },
  {
   "cell_type": "code",
   "execution_count": 125,
   "id": "4c4f16ba-6a6b-4c77-ac02-b7eb23ce3b79",
   "metadata": {},
   "outputs": [
    {
     "data": {
      "text/html": [
       "<div>\n",
       "<style scoped>\n",
       "    .dataframe tbody tr th:only-of-type {\n",
       "        vertical-align: middle;\n",
       "    }\n",
       "\n",
       "    .dataframe tbody tr th {\n",
       "        vertical-align: top;\n",
       "    }\n",
       "\n",
       "    .dataframe thead th {\n",
       "        text-align: right;\n",
       "    }\n",
       "</style>\n",
       "<table border=\"1\" class=\"dataframe\">\n",
       "  <thead>\n",
       "    <tr style=\"text-align: right;\">\n",
       "      <th></th>\n",
       "      <th>id</th>\n",
       "      <th>title</th>\n",
       "      <th>score</th>\n",
       "      <th>author</th>\n",
       "      <th>author_flair_text</th>\n",
       "      <th>removed_by</th>\n",
       "      <th>total_awards_received</th>\n",
       "      <th>awarders</th>\n",
       "      <th>created</th>\n",
       "      <th>full_link</th>\n",
       "      <th>num_comments</th>\n",
       "      <th>over_18</th>\n",
       "    </tr>\n",
       "  </thead>\n",
       "  <tbody>\n",
       "    <tr>\n",
       "      <th>0</th>\n",
       "      <td>ll1p9h</td>\n",
       "      <td>Wordcloud of trending video titles on YouTube ...</td>\n",
       "      <td>1</td>\n",
       "      <td>OmarZiada</td>\n",
       "      <td>OC: 1</td>\n",
       "      <td>NaN</td>\n",
       "      <td>0.0</td>\n",
       "      <td>[]</td>\n",
       "      <td>1613473961</td>\n",
       "      <td>https://www.reddit.com/r/dataisbeautiful/comme...</td>\n",
       "      <td>0</td>\n",
       "      <td>False</td>\n",
       "    </tr>\n",
       "    <tr>\n",
       "      <th>1</th>\n",
       "      <td>ll1o4h</td>\n",
       "      <td>Wordcloud of trending videos on YouTube in the...</td>\n",
       "      <td>1</td>\n",
       "      <td>OmarZiada</td>\n",
       "      <td>OC: 1</td>\n",
       "      <td>moderator</td>\n",
       "      <td>0.0</td>\n",
       "      <td>[]</td>\n",
       "      <td>1613473829</td>\n",
       "      <td>https://www.reddit.com/r/dataisbeautiful/comme...</td>\n",
       "      <td>1</td>\n",
       "      <td>False</td>\n",
       "    </tr>\n",
       "    <tr>\n",
       "      <th>2</th>\n",
       "      <td>ll15gx</td>\n",
       "      <td>Immunization in India. Source: https://niti.go...</td>\n",
       "      <td>1</td>\n",
       "      <td>Professional_Napper_</td>\n",
       "      <td>NaN</td>\n",
       "      <td>moderator</td>\n",
       "      <td>0.0</td>\n",
       "      <td>[]</td>\n",
       "      <td>1613471541</td>\n",
       "      <td>https://www.reddit.com/r/dataisbeautiful/comme...</td>\n",
       "      <td>1</td>\n",
       "      <td>False</td>\n",
       "    </tr>\n",
       "  </tbody>\n",
       "</table>\n",
       "</div>"
      ],
      "text/plain": [
       "       id                                              title  score  \\\n",
       "0  ll1p9h  Wordcloud of trending video titles on YouTube ...      1   \n",
       "1  ll1o4h  Wordcloud of trending videos on YouTube in the...      1   \n",
       "2  ll15gx  Immunization in India. Source: https://niti.go...      1   \n",
       "\n",
       "                 author author_flair_text removed_by  total_awards_received  \\\n",
       "0             OmarZiada             OC: 1        NaN                    0.0   \n",
       "1             OmarZiada             OC: 1  moderator                    0.0   \n",
       "2  Professional_Napper_               NaN  moderator                    0.0   \n",
       "\n",
       "  awarders     created                                          full_link  \\\n",
       "0       []  1613473961  https://www.reddit.com/r/dataisbeautiful/comme...   \n",
       "1       []  1613473829  https://www.reddit.com/r/dataisbeautiful/comme...   \n",
       "2       []  1613471541  https://www.reddit.com/r/dataisbeautiful/comme...   \n",
       "\n",
       "   num_comments  over_18  \n",
       "0             0    False  \n",
       "1             1    False  \n",
       "2             1    False  "
      ]
     },
     "execution_count": 125,
     "metadata": {},
     "output_type": "execute_result"
    }
   ],
   "source": [
    "df.head(3)"
   ]
  },
  {
   "cell_type": "code",
   "execution_count": 126,
   "id": "54510c31-fc84-4d76-869d-79344bb95f2f",
   "metadata": {},
   "outputs": [],
   "source": [
    "start_date = datetime.fromtimestamp(df.created.min())\n",
    "end_date = datetime.fromtimestamp(df.created.max())"
   ]
  },
  {
   "cell_type": "code",
   "execution_count": 127,
   "id": "41c12a2b-cf06-4208-85f9-fe891490bb8b",
   "metadata": {},
   "outputs": [
    {
     "name": "stdout",
     "output_type": "stream",
     "text": [
      "The dataset is from 2012-02-15 00:50:56 to 2021-02-16 12:12:41 and has 190853 datapoints.\n"
     ]
    }
   ],
   "source": [
    "print(f\"The dataset is from {start_date} to {end_date} and has {df.shape[0]} datapoints.\")"
   ]
  },
  {
   "cell_type": "markdown",
   "id": "53ac7bc8-aec4-41b5-a52a-057de572ef64",
   "metadata": {},
   "source": [
    "#### Data To Timeseries"
   ]
  },
  {
   "cell_type": "code",
   "execution_count": 128,
   "id": "9cfbb3b2-2ce7-45b1-87b3-4a61eabc69f8",
   "metadata": {},
   "outputs": [],
   "source": [
    "df = df[['title','score','created']]"
   ]
  },
  {
   "cell_type": "code",
   "execution_count": 129,
   "id": "7833882f-57b9-46b4-9fba-a1ca82328055",
   "metadata": {},
   "outputs": [],
   "source": [
    "# Binning data into buckets of selected bin size\n",
    "dates = sorted(list(set(df['created'])))\n",
    "mini, maxi = min(dates),max(dates)\n",
    "df['bins'] = df['created'].map(lambda x:int((x-mini)//bin_size))"
   ]
  },
  {
   "cell_type": "code",
   "execution_count": 130,
   "id": "b4c13440-cf3d-4a1e-b85f-9214288951ea",
   "metadata": {},
   "outputs": [],
   "source": [
    "aggregation_dict = {'title':'sum'}\n",
    "df = df.groupby(df['bins']).aggregate(aggregation_dict)"
   ]
  },
  {
   "cell_type": "markdown",
   "id": "6aec6c50-190b-436c-a6cb-6bce4b4bd0bf",
   "metadata": {},
   "source": [
    "#### Text Processing"
   ]
  },
  {
   "cell_type": "code",
   "execution_count": 131,
   "id": "b3dd182e-e899-4088-a401-6e9867e89ea9",
   "metadata": {},
   "outputs": [],
   "source": [
    "tfidf = TfidfVectorizer(\n",
    "    analyzer='word',\n",
    "    lowercase=True,\n",
    "    stop_words='english',\n",
    "    max_features=None\n",
    ")\n",
    "features=tfidf.fit_transform(df['title']).toarray()   \n",
    "index = df.index"
   ]
  },
  {
   "cell_type": "code",
   "execution_count": 132,
   "id": "56320063-f6ae-4f87-8269-312169a86a36",
   "metadata": {},
   "outputs": [],
   "source": [
    "df = pd.DataFrame(\n",
    "    data=features,\n",
    "    columns=range(len(features[0])),\n",
    "    index=index,\n",
    ")"
   ]
  },
  {
   "cell_type": "code",
   "execution_count": 134,
   "id": "eb5acd5e-fed8-46fd-b6ce-bb9ab65ce93a",
   "metadata": {},
   "outputs": [
    {
     "data": {
      "text/html": [
       "<div>\n",
       "<style scoped>\n",
       "    .dataframe tbody tr th:only-of-type {\n",
       "        vertical-align: middle;\n",
       "    }\n",
       "\n",
       "    .dataframe tbody tr th {\n",
       "        vertical-align: top;\n",
       "    }\n",
       "\n",
       "    .dataframe thead th {\n",
       "        text-align: right;\n",
       "    }\n",
       "</style>\n",
       "<table border=\"1\" class=\"dataframe\">\n",
       "  <thead>\n",
       "    <tr style=\"text-align: right;\">\n",
       "      <th></th>\n",
       "      <th>0</th>\n",
       "      <th>1</th>\n",
       "      <th>2</th>\n",
       "      <th>3</th>\n",
       "      <th>4</th>\n",
       "      <th>5</th>\n",
       "      <th>6</th>\n",
       "      <th>7</th>\n",
       "      <th>8</th>\n",
       "      <th>9</th>\n",
       "      <th>...</th>\n",
       "      <th>135144</th>\n",
       "      <th>135145</th>\n",
       "      <th>135146</th>\n",
       "      <th>135147</th>\n",
       "      <th>135148</th>\n",
       "      <th>135149</th>\n",
       "      <th>135150</th>\n",
       "      <th>135151</th>\n",
       "      <th>135152</th>\n",
       "      <th>135153</th>\n",
       "    </tr>\n",
       "    <tr>\n",
       "      <th>bins</th>\n",
       "      <th></th>\n",
       "      <th></th>\n",
       "      <th></th>\n",
       "      <th></th>\n",
       "      <th></th>\n",
       "      <th></th>\n",
       "      <th></th>\n",
       "      <th></th>\n",
       "      <th></th>\n",
       "      <th></th>\n",
       "      <th></th>\n",
       "      <th></th>\n",
       "      <th></th>\n",
       "      <th></th>\n",
       "      <th></th>\n",
       "      <th></th>\n",
       "      <th></th>\n",
       "      <th></th>\n",
       "      <th></th>\n",
       "      <th></th>\n",
       "      <th></th>\n",
       "    </tr>\n",
       "  </thead>\n",
       "  <tbody>\n",
       "    <tr>\n",
       "      <th>0</th>\n",
       "      <td>0.0</td>\n",
       "      <td>0.0</td>\n",
       "      <td>0.0</td>\n",
       "      <td>0.0</td>\n",
       "      <td>0.0</td>\n",
       "      <td>0.0</td>\n",
       "      <td>0.0</td>\n",
       "      <td>0.0</td>\n",
       "      <td>0.0</td>\n",
       "      <td>0.0</td>\n",
       "      <td>...</td>\n",
       "      <td>0.0</td>\n",
       "      <td>0.0</td>\n",
       "      <td>0.0</td>\n",
       "      <td>0.0</td>\n",
       "      <td>0.0</td>\n",
       "      <td>0.0</td>\n",
       "      <td>0.0</td>\n",
       "      <td>0.0</td>\n",
       "      <td>0.0</td>\n",
       "      <td>0.0</td>\n",
       "    </tr>\n",
       "    <tr>\n",
       "      <th>1</th>\n",
       "      <td>0.0</td>\n",
       "      <td>0.0</td>\n",
       "      <td>0.0</td>\n",
       "      <td>0.0</td>\n",
       "      <td>0.0</td>\n",
       "      <td>0.0</td>\n",
       "      <td>0.0</td>\n",
       "      <td>0.0</td>\n",
       "      <td>0.0</td>\n",
       "      <td>0.0</td>\n",
       "      <td>...</td>\n",
       "      <td>0.0</td>\n",
       "      <td>0.0</td>\n",
       "      <td>0.0</td>\n",
       "      <td>0.0</td>\n",
       "      <td>0.0</td>\n",
       "      <td>0.0</td>\n",
       "      <td>0.0</td>\n",
       "      <td>0.0</td>\n",
       "      <td>0.0</td>\n",
       "      <td>0.0</td>\n",
       "    </tr>\n",
       "    <tr>\n",
       "      <th>2</th>\n",
       "      <td>0.0</td>\n",
       "      <td>0.0</td>\n",
       "      <td>0.0</td>\n",
       "      <td>0.0</td>\n",
       "      <td>0.0</td>\n",
       "      <td>0.0</td>\n",
       "      <td>0.0</td>\n",
       "      <td>0.0</td>\n",
       "      <td>0.0</td>\n",
       "      <td>0.0</td>\n",
       "      <td>...</td>\n",
       "      <td>0.0</td>\n",
       "      <td>0.0</td>\n",
       "      <td>0.0</td>\n",
       "      <td>0.0</td>\n",
       "      <td>0.0</td>\n",
       "      <td>0.0</td>\n",
       "      <td>0.0</td>\n",
       "      <td>0.0</td>\n",
       "      <td>0.0</td>\n",
       "      <td>0.0</td>\n",
       "    </tr>\n",
       "  </tbody>\n",
       "</table>\n",
       "<p>3 rows × 135154 columns</p>\n",
       "</div>"
      ],
      "text/plain": [
       "      0       1       2       3       4       5       6       7       8       \\\n",
       "bins                                                                           \n",
       "0        0.0     0.0     0.0     0.0     0.0     0.0     0.0     0.0     0.0   \n",
       "1        0.0     0.0     0.0     0.0     0.0     0.0     0.0     0.0     0.0   \n",
       "2        0.0     0.0     0.0     0.0     0.0     0.0     0.0     0.0     0.0   \n",
       "\n",
       "      9       ...  135144  135145  135146  135147  135148  135149  135150  \\\n",
       "bins          ...                                                           \n",
       "0        0.0  ...     0.0     0.0     0.0     0.0     0.0     0.0     0.0   \n",
       "1        0.0  ...     0.0     0.0     0.0     0.0     0.0     0.0     0.0   \n",
       "2        0.0  ...     0.0     0.0     0.0     0.0     0.0     0.0     0.0   \n",
       "\n",
       "      135151  135152  135153  \n",
       "bins                          \n",
       "0        0.0     0.0     0.0  \n",
       "1        0.0     0.0     0.0  \n",
       "2        0.0     0.0     0.0  \n",
       "\n",
       "[3 rows x 135154 columns]"
      ]
     },
     "execution_count": 134,
     "metadata": {},
     "output_type": "execute_result"
    }
   ],
   "source": [
    "df.head(3)"
   ]
  },
  {
   "cell_type": "markdown",
   "id": "a3f5f8ec-4ed6-4e1a-8e57-e572a31bd139",
   "metadata": {},
   "source": [
    "#### Save Data"
   ]
  },
  {
   "cell_type": "code",
   "execution_count": 135,
   "id": "831c365a-73ef-4b74-a2e0-0bea2d824b4e",
   "metadata": {},
   "outputs": [],
   "source": [
    "#df.to_csv('wsb_time_series.csv')"
   ]
  }
 ],
 "metadata": {
  "kernelspec": {
   "display_name": "Python 3 (ipykernel)",
   "language": "python",
   "name": "python3"
  },
  "language_info": {
   "codemirror_mode": {
    "name": "ipython",
    "version": 3
   },
   "file_extension": ".py",
   "mimetype": "text/x-python",
   "name": "python",
   "nbconvert_exporter": "python",
   "pygments_lexer": "ipython3",
   "version": "3.9.12"
  }
 },
 "nbformat": 4,
 "nbformat_minor": 5
}
