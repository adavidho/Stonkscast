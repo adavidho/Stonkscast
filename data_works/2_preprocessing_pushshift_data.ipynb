{
 "cells": [
  {
   "cell_type": "markdown",
   "id": "183ac544-da5d-45b8-af13-a430d0d6eabb",
   "metadata": {
    "tags": []
   },
   "source": [
    "# Raw JSON Data to Time Series DataFrame\n",
    "#### Load Json Data\n"
   ]
  },
  {
   "cell_type": "code",
   "execution_count": 2,
   "id": "c5d66a40-f519-4111-b8b8-84ab264d5b9a",
   "metadata": {},
   "outputs": [],
   "source": [
    "# Imports\n",
    "from datetime import datetime\n",
    "import json\n",
    "import pandas as pd\n",
    "import re"
   ]
  },
  {
   "cell_type": "code",
   "execution_count": 2,
   "id": "3a88ef12-5044-459e-94ff-2e93ea759782",
   "metadata": {},
   "outputs": [],
   "source": [
    "# Load JSON Data and merge posts into one list of dicts\n",
    "json_data = list()\n",
    "for i in range(4):\n",
    "    with open(f'.\\..\\..\\Data\\Pushshift_IO\\Take_2\\wsb_data_{i+1}.json') as d:\n",
    "        json_data += json.load(d)['data']"
   ]
  },
  {
   "cell_type": "markdown",
   "id": "123d0506-460c-4635-96bf-c92bc7ca029d",
   "metadata": {},
   "source": [
    "#### Create Data From Data"
   ]
  },
  {
   "cell_type": "code",
   "execution_count": 3,
   "id": "d6615d1a-ca24-4817-b9b9-4517cbca7d26",
   "metadata": {},
   "outputs": [],
   "source": [
    "df = pd.DataFrame.from_dict(json_data)"
   ]
  },
  {
   "cell_type": "code",
   "execution_count": 4,
   "id": "84004c80-9dc4-4218-b447-3c50ab63a790",
   "metadata": {},
   "outputs": [
    {
     "data": {
      "text/html": [
       "<div>\n",
       "<style scoped>\n",
       "    .dataframe tbody tr th:only-of-type {\n",
       "        vertical-align: middle;\n",
       "    }\n",
       "\n",
       "    .dataframe tbody tr th {\n",
       "        vertical-align: top;\n",
       "    }\n",
       "\n",
       "    .dataframe thead th {\n",
       "        text-align: right;\n",
       "    }\n",
       "</style>\n",
       "<table border=\"1\" class=\"dataframe\">\n",
       "  <thead>\n",
       "    <tr style=\"text-align: right;\">\n",
       "      <th></th>\n",
       "      <th>title</th>\n",
       "      <th>created_utc</th>\n",
       "    </tr>\n",
       "  </thead>\n",
       "  <tbody>\n",
       "    <tr>\n",
       "      <th>0</th>\n",
       "      <td>Fed funds 4.6% from Summary of Economics Proje...</td>\n",
       "      <td>1666265085</td>\n",
       "    </tr>\n",
       "    <tr>\n",
       "      <th>1</th>\n",
       "      <td>Me with my TSLA 10/21 220 C I held through ear...</td>\n",
       "      <td>1666265075</td>\n",
       "    </tr>\n",
       "    <tr>\n",
       "      <th>2</th>\n",
       "      <td>A new tactic from bagholders - Set up a gofund...</td>\n",
       "      <td>1666264841</td>\n",
       "    </tr>\n",
       "    <tr>\n",
       "      <th>3</th>\n",
       "      <td>Fed funds 4.6% from Summary of Economics Proje...</td>\n",
       "      <td>1666264781</td>\n",
       "    </tr>\n",
       "    <tr>\n",
       "      <th>4</th>\n",
       "      <td>Can someone give me some knowledge on why 366 ...</td>\n",
       "      <td>1666264287</td>\n",
       "    </tr>\n",
       "  </tbody>\n",
       "</table>\n",
       "</div>"
      ],
      "text/plain": [
       "                                               title  created_utc\n",
       "0  Fed funds 4.6% from Summary of Economics Proje...   1666265085\n",
       "1  Me with my TSLA 10/21 220 C I held through ear...   1666265075\n",
       "2  A new tactic from bagholders - Set up a gofund...   1666264841\n",
       "3  Fed funds 4.6% from Summary of Economics Proje...   1666264781\n",
       "4  Can someone give me some knowledge on why 366 ...   1666264287"
      ]
     },
     "execution_count": 4,
     "metadata": {},
     "output_type": "execute_result"
    }
   ],
   "source": [
    "df.head()"
   ]
  },
  {
   "cell_type": "code",
   "execution_count": 5,
   "id": "a539e7d2-dac1-4e6e-a9b0-2742c11ac6e7",
   "metadata": {},
   "outputs": [
    {
     "name": "stdout",
     "output_type": "stream",
     "text": [
      "The dataset is from 2020-12-01 06:41:14 to 2022-10-20 13:24:45 and has 1459699 datapoints.\n"
     ]
    }
   ],
   "source": [
    "start_date = datetime.fromtimestamp(df.created_utc.min())\n",
    "end_date = datetime.fromtimestamp(df.created_utc.max())\n",
    "print(f\"The dataset is from {start_date} to {end_date} and has {df.shape[0]} datapoints.\")"
   ]
  },
  {
   "cell_type": "markdown",
   "id": "addf0221-5d74-41b1-b6b6-bf8584ac3501",
   "metadata": {},
   "source": [
    "#### Create Time Series"
   ]
  },
  {
   "cell_type": "code",
   "execution_count": 6,
   "id": "665c7fdd-f3f1-438d-af11-2a7d045cb5ae",
   "metadata": {},
   "outputs": [],
   "source": [
    "# Puts datapoints into daily bins\n",
    "df['date'] = df['created_utc'].map(\n",
    "    lambda timestamp: datetime.fromtimestamp(timestamp).date()\n",
    ")"
   ]
  },
  {
   "cell_type": "code",
   "execution_count": 7,
   "id": "4a29de78-9afd-438d-867d-53f512a1ea26",
   "metadata": {},
   "outputs": [],
   "source": [
    "# Aggregate all Posts form the same day (string concat)\n",
    "aggregation_dict = {'title':'sum'}\n",
    "df = df.groupby(df['date']).aggregate(aggregation_dict)"
   ]
  },
  {
   "cell_type": "markdown",
   "id": "09cd3360-dbe4-47f0-9706-7f1cb043ebda",
   "metadata": {},
   "source": [
    "#### Text Processing"
   ]
  },
  {
   "cell_type": "code",
   "execution_count": 8,
   "id": "a5ff9f83-86ae-4f78-b8e5-dcdf22153cac",
   "metadata": {},
   "outputs": [],
   "source": [
    "target_words = ['GME', 'GameStop', 'Game Stop', 'gamestop', 'game stop']"
   ]
  },
  {
   "cell_type": "code",
   "execution_count": 9,
   "id": "404ca9de-f20b-4588-90e1-4bf47d459b45",
   "metadata": {},
   "outputs": [],
   "source": [
    "# Compute accumulated target word frequency as feature\n",
    "df['word_count'] = df['title'].map(\n",
    "    lambda title: sum([title.count(word) for word in target_words])\n",
    ")"
   ]
  },
  {
   "cell_type": "markdown",
   "id": "bf9c687a-a7bc-44a7-950f-69e6fb9faf06",
   "metadata": {},
   "source": [
    "#### Save Data"
   ]
  },
  {
   "cell_type": "code",
   "execution_count": 9,
   "id": "d9e6293d-76c1-4000-81fa-09718f46867d",
   "metadata": {},
   "outputs": [
    {
     "data": {
      "text/html": [
       "<div>\n",
       "<style scoped>\n",
       "    .dataframe tbody tr th:only-of-type {\n",
       "        vertical-align: middle;\n",
       "    }\n",
       "\n",
       "    .dataframe tbody tr th {\n",
       "        vertical-align: top;\n",
       "    }\n",
       "\n",
       "    .dataframe thead th {\n",
       "        text-align: right;\n",
       "    }\n",
       "</style>\n",
       "<table border=\"1\" class=\"dataframe\">\n",
       "  <thead>\n",
       "    <tr style=\"text-align: right;\">\n",
       "      <th></th>\n",
       "      <th>date</th>\n",
       "      <th>title</th>\n",
       "      <th>word_count</th>\n",
       "    </tr>\n",
       "  </thead>\n",
       "  <tbody>\n",
       "    <tr>\n",
       "      <th>0</th>\n",
       "      <td>2020-12-01</td>\n",
       "      <td>Diamond hands on Chinese EVsSomeone give me a ...</td>\n",
       "      <td>90</td>\n",
       "    </tr>\n",
       "    <tr>\n",
       "      <th>1</th>\n",
       "      <td>2020-12-02</td>\n",
       "      <td>Ford v TeslaTesla shares rise as Goldman initi...</td>\n",
       "      <td>64</td>\n",
       "    </tr>\n",
       "    <tr>\n",
       "      <th>2</th>\n",
       "      <td>2020-12-03</td>\n",
       "      <td>You like Palantir? You'll love NSH!Analysis of...</td>\n",
       "      <td>27</td>\n",
       "    </tr>\n",
       "    <tr>\n",
       "      <th>3</th>\n",
       "      <td>2020-12-04</td>\n",
       "      <td>Who’s gonna be the Tesla of cannabis?CL 10 – D...</td>\n",
       "      <td>47</td>\n",
       "    </tr>\n",
       "    <tr>\n",
       "      <th>4</th>\n",
       "      <td>2020-12-05</td>\n",
       "      <td>Most anticipated earnings of the week (fixed i...</td>\n",
       "      <td>31</td>\n",
       "    </tr>\n",
       "  </tbody>\n",
       "</table>\n",
       "</div>"
      ],
      "text/plain": [
       "         date                                              title  word_count\n",
       "0  2020-12-01  Diamond hands on Chinese EVsSomeone give me a ...          90\n",
       "1  2020-12-02  Ford v TeslaTesla shares rise as Goldman initi...          64\n",
       "2  2020-12-03  You like Palantir? You'll love NSH!Analysis of...          27\n",
       "3  2020-12-04  Who’s gonna be the Tesla of cannabis?CL 10 – D...          47\n",
       "4  2020-12-05  Most anticipated earnings of the week (fixed i...          31"
      ]
     },
     "execution_count": 9,
     "metadata": {},
     "output_type": "execute_result"
    }
   ],
   "source": [
    "df.head()"
   ]
  },
  {
   "cell_type": "code",
   "execution_count": 5,
   "id": "03c935b0-c331-4642-9f07-65adbac5d53f",
   "metadata": {},
   "outputs": [],
   "source": [
    "df['word_count'].to_csv(f'./../../Data/Time_Series/timeseries_2.csv')"
   ]
  },
  {
   "cell_type": "code",
   "execution_count": null,
   "id": "cae83952-82cc-4f67-9213-f1c9e8412a31",
   "metadata": {},
   "outputs": [],
   "source": []
  }
 ],
 "metadata": {
  "kernelspec": {
   "display_name": "Python 3 (ipykernel)",
   "language": "python",
   "name": "python3"
  },
  "language_info": {
   "codemirror_mode": {
    "name": "ipython",
    "version": 3
   },
   "file_extension": ".py",
   "mimetype": "text/x-python",
   "name": "python",
   "nbconvert_exporter": "python",
   "pygments_lexer": "ipython3",
   "version": "3.9.12"
  }
 },
 "nbformat": 4,
 "nbformat_minor": 5
}
