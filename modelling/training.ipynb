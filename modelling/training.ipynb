{
 "cells": [
  {
   "attachments": {},
   "cell_type": "markdown",
   "metadata": {},
   "source": [
    "# Model training\n",
    "This notebook contains the preparation of the training, the training itself and the analysis of the training results."
   ]
  },
  {
   "cell_type": "code",
   "execution_count": 91,
   "metadata": {},
   "outputs": [],
   "source": [
    "# Imports\n",
    "import pandas as pd\n",
    "import numpy as np\n",
    "import xgboost as xgb\n",
    "from sklearn.model_selection import train_test_split"
   ]
  },
  {
   "attachments": {},
   "cell_type": "markdown",
   "metadata": {},
   "source": [
    "## Training preparation"
   ]
  },
  {
   "cell_type": "code",
   "execution_count": 92,
   "metadata": {},
   "outputs": [
    {
     "data": {
      "text/html": [
       "<div>\n",
       "<style scoped>\n",
       "    .dataframe tbody tr th:only-of-type {\n",
       "        vertical-align: middle;\n",
       "    }\n",
       "\n",
       "    .dataframe tbody tr th {\n",
       "        vertical-align: top;\n",
       "    }\n",
       "\n",
       "    .dataframe thead th {\n",
       "        text-align: right;\n",
       "    }\n",
       "</style>\n",
       "<table border=\"1\" class=\"dataframe\">\n",
       "  <thead>\n",
       "    <tr style=\"text-align: right;\">\n",
       "      <th></th>\n",
       "      <th>meme_stock</th>\n",
       "      <th>ticker</th>\n",
       "      <th>price_2020-12-01</th>\n",
       "      <th>wsv_2020-12-01</th>\n",
       "      <th>price_2020-12-16</th>\n",
       "      <th>wsv_2020-12-16</th>\n",
       "      <th>price_2021-01-04</th>\n",
       "      <th>wsv_2021-01-04</th>\n",
       "      <th>price_2021-01-20</th>\n",
       "      <th>wsv_2021-01-20</th>\n",
       "      <th>...</th>\n",
       "      <th>volume</th>\n",
       "      <th>fiftyTwoWeekHigh</th>\n",
       "      <th>fiveYearAvgDividendYield</th>\n",
       "      <th>fiftyTwoWeekLow</th>\n",
       "      <th>bid</th>\n",
       "      <th>tradeable</th>\n",
       "      <th>dividendYield</th>\n",
       "      <th>bidSize</th>\n",
       "      <th>dayHigh</th>\n",
       "      <th>fax</th>\n",
       "    </tr>\n",
       "  </thead>\n",
       "  <tbody>\n",
       "    <tr>\n",
       "      <th>0</th>\n",
       "      <td>True</td>\n",
       "      <td>GME</td>\n",
       "      <td>4.277500</td>\n",
       "      <td>86</td>\n",
       "      <td>3.490000</td>\n",
       "      <td>20</td>\n",
       "      <td>4.750000</td>\n",
       "      <td>91</td>\n",
       "      <td>9.342500</td>\n",
       "      <td>597</td>\n",
       "      <td>...</td>\n",
       "      <td>NaN</td>\n",
       "      <td>NaN</td>\n",
       "      <td>NaN</td>\n",
       "      <td>NaN</td>\n",
       "      <td>NaN</td>\n",
       "      <td>NaN</td>\n",
       "      <td>NaN</td>\n",
       "      <td>NaN</td>\n",
       "      <td>NaN</td>\n",
       "      <td>NaN</td>\n",
       "    </tr>\n",
       "    <tr>\n",
       "      <th>1</th>\n",
       "      <td>True</td>\n",
       "      <td>AMC</td>\n",
       "      <td>4.430000</td>\n",
       "      <td>1</td>\n",
       "      <td>2.870000</td>\n",
       "      <td>1</td>\n",
       "      <td>2.200000</td>\n",
       "      <td>2</td>\n",
       "      <td>3.290000</td>\n",
       "      <td>44</td>\n",
       "      <td>...</td>\n",
       "      <td>NaN</td>\n",
       "      <td>NaN</td>\n",
       "      <td>NaN</td>\n",
       "      <td>NaN</td>\n",
       "      <td>NaN</td>\n",
       "      <td>NaN</td>\n",
       "      <td>NaN</td>\n",
       "      <td>NaN</td>\n",
       "      <td>NaN</td>\n",
       "      <td>NaN</td>\n",
       "    </tr>\n",
       "    <tr>\n",
       "      <th>2</th>\n",
       "      <td>True</td>\n",
       "      <td>BBBY</td>\n",
       "      <td>21.290001</td>\n",
       "      <td>0</td>\n",
       "      <td>19.430000</td>\n",
       "      <td>0</td>\n",
       "      <td>17.969999</td>\n",
       "      <td>3</td>\n",
       "      <td>25.110001</td>\n",
       "      <td>2</td>\n",
       "      <td>...</td>\n",
       "      <td>NaN</td>\n",
       "      <td>NaN</td>\n",
       "      <td>NaN</td>\n",
       "      <td>NaN</td>\n",
       "      <td>NaN</td>\n",
       "      <td>NaN</td>\n",
       "      <td>NaN</td>\n",
       "      <td>NaN</td>\n",
       "      <td>NaN</td>\n",
       "      <td>NaN</td>\n",
       "    </tr>\n",
       "    <tr>\n",
       "      <th>3</th>\n",
       "      <td>True</td>\n",
       "      <td>FIZZ</td>\n",
       "      <td>43.345825</td>\n",
       "      <td>0</td>\n",
       "      <td>38.819767</td>\n",
       "      <td>0</td>\n",
       "      <td>40.557332</td>\n",
       "      <td>0</td>\n",
       "      <td>44.121933</td>\n",
       "      <td>1</td>\n",
       "      <td>...</td>\n",
       "      <td>304714.0</td>\n",
       "      <td>57.65</td>\n",
       "      <td>NaN</td>\n",
       "      <td>38.1</td>\n",
       "      <td>47.31</td>\n",
       "      <td>False</td>\n",
       "      <td>NaN</td>\n",
       "      <td>800.0</td>\n",
       "      <td>53.98</td>\n",
       "      <td>NaN</td>\n",
       "    </tr>\n",
       "    <tr>\n",
       "      <th>4</th>\n",
       "      <td>True</td>\n",
       "      <td>BB</td>\n",
       "      <td>8.360000</td>\n",
       "      <td>44</td>\n",
       "      <td>8.350000</td>\n",
       "      <td>4</td>\n",
       "      <td>6.700000</td>\n",
       "      <td>3</td>\n",
       "      <td>13.230000</td>\n",
       "      <td>430</td>\n",
       "      <td>...</td>\n",
       "      <td>NaN</td>\n",
       "      <td>NaN</td>\n",
       "      <td>NaN</td>\n",
       "      <td>NaN</td>\n",
       "      <td>NaN</td>\n",
       "      <td>NaN</td>\n",
       "      <td>NaN</td>\n",
       "      <td>NaN</td>\n",
       "      <td>NaN</td>\n",
       "      <td>NaN</td>\n",
       "    </tr>\n",
       "  </tbody>\n",
       "</table>\n",
       "<p>5 rows × 141 columns</p>\n",
       "</div>"
      ],
      "text/plain": [
       "   meme_stock ticker  price_2020-12-01  wsv_2020-12-01  price_2020-12-16  \\\n",
       "0        True    GME          4.277500              86          3.490000   \n",
       "1        True    AMC          4.430000               1          2.870000   \n",
       "2        True   BBBY         21.290001               0         19.430000   \n",
       "3        True   FIZZ         43.345825               0         38.819767   \n",
       "4        True     BB          8.360000              44          8.350000   \n",
       "\n",
       "   wsv_2020-12-16  price_2021-01-04  wsv_2021-01-04  price_2021-01-20  \\\n",
       "0              20          4.750000              91          9.342500   \n",
       "1               1          2.200000               2          3.290000   \n",
       "2               0         17.969999               3         25.110001   \n",
       "3               0         40.557332               0         44.121933   \n",
       "4               4          6.700000               3         13.230000   \n",
       "\n",
       "   wsv_2021-01-20  ...    volume fiftyTwoWeekHigh  fiveYearAvgDividendYield  \\\n",
       "0             597  ...       NaN              NaN                       NaN   \n",
       "1              44  ...       NaN              NaN                       NaN   \n",
       "2               2  ...       NaN              NaN                       NaN   \n",
       "3               1  ...  304714.0            57.65                       NaN   \n",
       "4             430  ...       NaN              NaN                       NaN   \n",
       "\n",
       "  fiftyTwoWeekLow    bid  tradeable dividendYield bidSize dayHigh  fax  \n",
       "0             NaN    NaN        NaN           NaN     NaN     NaN  NaN  \n",
       "1             NaN    NaN        NaN           NaN     NaN     NaN  NaN  \n",
       "2             NaN    NaN        NaN           NaN     NaN     NaN  NaN  \n",
       "3            38.1  47.31      False           NaN   800.0   53.98  NaN  \n",
       "4             NaN    NaN        NaN           NaN     NaN     NaN  NaN  \n",
       "\n",
       "[5 rows x 141 columns]"
      ]
     },
     "execution_count": 92,
     "metadata": {},
     "output_type": "execute_result"
    }
   ],
   "source": [
    "df = pd.read_csv(\"./../data_works/train_set_pipeline/stock_data.csv\", low_memory=False, index_col=0)\n",
    "df.head()"
   ]
  },
  {
   "cell_type": "code",
   "execution_count": 93,
   "metadata": {},
   "outputs": [],
   "source": [
    "# df[df.ticker.apply(lambda x: not x.isnumeric())]\n",
    "cols_to_drop = [\"city\", \"state\", \"country\", \"financialCurrency\", \"shortName\", \"longName\", \"exchangeTimezoneShortName\",\\\n",
    "    \"isEsgPopulated\", \"quoteType\", \"market\", \"morningStarRiskRating\", \"fundInceptionDate\", \"lastFiscalYearEnd\", \"mostRecentQuarter\",\\\n",
    "        \"legalType\", \"lastDividendDate\", \"startDate\", \"fax\", \"zip\"]\n",
    "cols_to_encode = [\"sector\", \"industry\", \"recommendationKey\", \"exchange\", \"fundFamily\", \"tradeable\"]\n",
    "# These have overfitting potential: industry\n",
    "dummies = pd.get_dummies(df[cols_to_encode])\n",
    "df = pd.concat([df, dummies], axis=1)"
   ]
  },
  {
   "cell_type": "code",
   "execution_count": 94,
   "metadata": {},
   "outputs": [],
   "source": [
    "# These feature are potentially needed later on, but not for training\n",
    "y = df[\"meme_stock\"]\n",
    "cols_to_drop += [\"logo_url\", \"ticker\", \"meme_stock\"]\n",
    "df.drop(cols_to_drop+cols_to_encode, axis=1, inplace=True)\n",
    "X = df.to_numpy()\n",
    "X_train, X_test, y_train, y_test = train_test_split(X, y, test_size=0.2, random_state=41)\n",
    "dtrain = xgb.DMatrix(X_train, label=y_train)\n",
    "dtest = xgb.DMatrix(X_test, label=y_test)"
   ]
  },
  {
   "cell_type": "markdown",
   "metadata": {},
   "source": [
    "## Model training"
   ]
  },
  {
   "cell_type": "code",
   "execution_count": 95,
   "metadata": {},
   "outputs": [],
   "source": [
    "# Set hyperparameters\n",
    "param = {\n",
    "    'max_depth': 10, # Huge number of features require complex model\n",
    "    'objective': 'binary:logistic',\n",
    "}\n",
    "\n",
    "evallist = [(dtrain, 'train'), (dtest, 'eval')]"
   ]
  },
  {
   "cell_type": "code",
   "execution_count": 96,
   "metadata": {},
   "outputs": [
    {
     "name": "stdout",
     "output_type": "stream",
     "text": [
      "[0]\ttrain-logloss:0.53725\teval-logloss:0.57307\n",
      "[1]\ttrain-logloss:0.46015\teval-logloss:0.50463\n",
      "[2]\ttrain-logloss:0.39301\teval-logloss:0.45916\n",
      "[3]\ttrain-logloss:0.34707\teval-logloss:0.42346\n",
      "[4]\ttrain-logloss:0.31284\teval-logloss:0.40676\n",
      "[5]\ttrain-logloss:0.27735\teval-logloss:0.39097\n",
      "[6]\ttrain-logloss:0.25314\teval-logloss:0.36115\n",
      "[7]\ttrain-logloss:0.23054\teval-logloss:0.33207\n",
      "[8]\ttrain-logloss:0.21044\teval-logloss:0.33050\n",
      "[9]\ttrain-logloss:0.19609\teval-logloss:0.33158\n"
     ]
    },
    {
     "name": "stderr",
     "output_type": "stream",
     "text": [
      "c:\\Users\\janhe\\Desktop\\Uni\\Fallstudie_DS\\stonkscast\\lib\\site-packages\\xgboost\\core.py:617: FutureWarning: Pass `evals` as keyword args.\n",
      "  warnings.warn(msg, FutureWarning)\n"
     ]
    }
   ],
   "source": [
    "num_round = 10\n",
    "model = xgb.train(param, dtrain, num_round, evallist)"
   ]
  }
 ],
 "metadata": {
  "kernelspec": {
   "display_name": "stonkscast",
   "language": "python",
   "name": "python3"
  },
  "language_info": {
   "codemirror_mode": {
    "name": "ipython",
    "version": 3
   },
   "file_extension": ".py",
   "mimetype": "text/x-python",
   "name": "python",
   "nbconvert_exporter": "python",
   "pygments_lexer": "ipython3",
   "version": "3.9.13 (tags/v3.9.13:6de2ca5, May 17 2022, 16:36:42) [MSC v.1929 64 bit (AMD64)]"
  },
  "orig_nbformat": 4,
  "vscode": {
   "interpreter": {
    "hash": "27bc3fee0f8da09c9eeb933d9e69f1d023d69c30f5e5916200c4ff33dabe76a9"
   }
  }
 },
 "nbformat": 4,
 "nbformat_minor": 2
}
